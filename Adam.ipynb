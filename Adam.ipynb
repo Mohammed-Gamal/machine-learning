{
 "cells": [
  {
   "cell_type": "markdown",
   "metadata": {},
   "source": [
    "# **Adam (Adaptive Moment Estimation)**\n",
    "\n",
    "Adam is an optimization algorithm that combines the best features of **Momentum-based Gradient Descent and RMSprop** to provide an efficient and adaptive learning rate for training deep neural networks.\n",
    "\n",
    "#### **Why Do We Need Adam?**\n",
    "\n",
    "Standard gradient descent has two main challenges:\n",
    "\n",
    "1. **Slow convergence:** If the learning rate is too small, training takes a long time.\n",
    "\n",
    "2. **Unstable updates:** If the learning rate is too large, the optimizer might overshoot or oscillate.\n",
    "\n",
    "Adam addresses these issues by adapting the learning rate individually for each parameter using **momentum and adaptive scaling**.\n",
    "\n",
    "---\n",
    "\n",
    "### **The Intuition Behind Adam**\n",
    "\n",
    "Adam maintains two moving averages during training:\n",
    "\n",
    "\n",
    "1. **First Moment Estimate** ($m_t$) — **Momentum Term**\n",
    "\n",
    "- Similar to **Momentum-based Gradient Descent**, it smooths out the gradient updates.\n",
    "\n",
    "- Instead of using just the raw gradient, it uses an **exponential moving average** of past gradients:\n",
    "\n",
    "$$m_t = \\beta_1 m_{t-1} + (1 - \\beta_1) g_t$$\n",
    "\n",
    "- This helps to accelerate the learning in consistent gradient directions.\n",
    "\n",
    "\n",
    "2. **Second Moment Estimate** ($v_t$) — **RMSprop Term**\n",
    "\n",
    "- Instread of treating all parameters equally, it keeps track of past squared gradients to normalize the updates.\n",
    "\n",
    "- Similar to RMSprop, it uses an **exponential moving average** of past squared gradients:\n",
    "\n",
    "$$v_t = \\beta_2 v_{t-1} + (1 - \\beta_2) g_t^2$$\n",
    "\n",
    "\n",
    "3. **Bias Correction**\n",
    "\n",
    "- Since $m_t$ and $v_t$ are initialized to zero, they are biased towards zero in the early iterations.\n",
    "\n",
    "- To correct this bias, Adam uses:\n",
    "\n",
    "$$ \\hat{m_t} = \\frac{m_t}{1 - \\beta_1^t} $$\n",
    "$$ \\hat{v_t} = \\frac{v_t}{1 - \\beta_2^t} $$\n",
    "\n",
    "- This ensures proper updates, especially at the beginning of training.\n",
    "\n",
    "\n",
    "4. **Parameter Update Rule**\n",
    "\n",
    "- The final update rule for a parameter $\\theta$ is:\n",
    "$$ \\theta_{t} = \\theta_{t-1} - \\frac{\\alpha}{\\sqrt{\\hat{v_t}} + \\epsilon} \\cdot \\hat{m_t} $$\n",
    "\n",
    "- Here,\n",
    "    - $\\alpha$ is the learning rate.\n",
    "    - $\\epsilon$ is a small constant to avoid division by zero.\n",
    "    - $\\hat{m_t}$ is the bias-corrected first moment estimate.\n",
    "    - $\\hat{v_t}$ is the bias-corrected second moment estimate.\n",
    "\n",
    "---\n",
    "\n",
    "### **Choosing Hyperparameters**\n",
    "\n",
    "The default settings of Adam work well in most cases:\n",
    "\n",
    "| Hyperparameter | Value | Effect |\n",
    "| --- | --- | --- |\n",
    "| $\\alpha$ (Learning Rate) | 0.001 | Determines the step size for parameter updates. |\n",
    "| $\\beta_1$ (Momentum) | 0.9 | Smoothing factor for the first moment estimate. |\n",
    "| $\\beta_2$ (RMSprop) | 0.999 | Smoothing factor for the second moment estimate. |\n",
    "| $\\epsilon$ | $10^{-8}$ | Small constant to avoid division by zero. |\n",
    "\n",
    "---\n",
    "\n",
    "### ✅ **Advantages of Adam**\n",
    "- **Adaptive Learning Rate:** Different parameters have different step sizes, making training more efficient.\n",
    "-  **Faster Convergence:** Momentum helps move quickly in useful directions.\n",
    "- **Handles Noisy Gradients:** Works well for non-stationary and sparse gradients.\n",
    "- **Minimal Tuning Required:** Default hyperparameters often work well.\n",
    "- **Works for Large Datasets:** Efficient for high-dimensional problems.\n",
    "\n",
    "### ❌ **Disadvantages of Adam**\n",
    "-  **Can Converge to Sharp Minima:** Sometimes leads to suboptimal solutions.\n",
    "- **May Not Generalize Well:** Solutions found by Adam may have worse test performance.\n",
    "- **Requires More Memory:** Stores both $m_t$ and $v_t$, increasing memory usage.\n",
    "\n",
    "---\n",
    "\n",
    "### **Conclusion**\n",
    "\n",
    "**Adam** (**Adaptive Moment Estimation**) is one of the most popular optimizers in deep learning because it combines the benefits of momentum and adaptive learning rates. It converges quickly, adapts well to different datasets, and requires minimal tuning. However, it may not always generalize as well as **Gradient Descent (GD) with momentum**, so testing different optimizers is always recommended.\n",
    "\n",
    "---"
   ]
  },
  {
   "cell_type": "code",
   "execution_count": 41,
   "metadata": {},
   "outputs": [],
   "source": [
    "import numpy as np\n",
    "import matplotlib.pyplot as plt"
   ]
  },
  {
   "cell_type": "code",
   "execution_count": 42,
   "metadata": {},
   "outputs": [],
   "source": [
    "# Example function: f(x) = x^2 (simple quadratic loss)\n",
    "def gradient(x):\n",
    "    return 2*x  # Derivative of f(x) = x^2"
   ]
  },
  {
   "cell_type": "code",
   "execution_count": 43,
   "metadata": {},
   "outputs": [],
   "source": [
    "# Initialize variables\n",
    "x_init = 4  # Start at x=4\n",
    "iterations = 100  # Number of iterations"
   ]
  },
  {
   "cell_type": "markdown",
   "metadata": {},
   "source": [
    "## **Standard Gradient Descent**"
   ]
  },
  {
   "cell_type": "code",
   "execution_count": 44,
   "metadata": {},
   "outputs": [],
   "source": [
    "# Run standard gradient descent for comparison\n",
    "x = x_init\n",
    "alpha = 0.1  # Learning rate\n",
    "\n",
    "x_history_standard = [x]\n",
    "\n",
    "for _ in range(iterations):\n",
    "    grad = gradient(x)\n",
    "    x = x - alpha * grad\n",
    "    x_history_standard.append(x)"
   ]
  },
  {
   "cell_type": "markdown",
   "metadata": {},
   "source": [
    "## **Momentum-based Gradient Descent**"
   ]
  },
  {
   "cell_type": "code",
   "execution_count": 45,
   "metadata": {},
   "outputs": [],
   "source": [
    "# Run gradient descent with momentum\n",
    "x = x_init  # Start at x=10\n",
    "alpha = 0.1  # Learning rate\n",
    "beta = 0.9  # Decay rate for squared gradient moving average\n",
    "v = 0  # Initialize velocity\n",
    "\n",
    "x_history_momentum = [x]\n",
    "\n",
    "for _ in range(iterations):\n",
    "    grad = gradient(x)\n",
    "    v = beta * v + (1 - beta) * grad  # Update velocity\n",
    "    x = x - alpha * v  # Update x position\n",
    "    x_history_momentum.append(x)"
   ]
  },
  {
   "cell_type": "markdown",
   "metadata": {},
   "source": [
    "## **RMSprop (Root Mean Square Propagation)**"
   ]
  },
  {
   "cell_type": "code",
   "execution_count": 46,
   "metadata": {},
   "outputs": [],
   "source": [
    "# Run RMSprop for 50 iterations\n",
    "x = x_init  # Start at x=10\n",
    "beta = 0.9  # Decay rate for squared gradient moving average\n",
    "Eg2 = 0  # Initialize squared gradient moving average\n",
    "epsilon = 1e-8  # Small constant to avoid division by zero\n",
    "\n",
    "x_history_rmsprop = [x]\n",
    "\n",
    "for _ in range(iterations):\n",
    "    grad = gradient(x)  # Compute gradient\n",
    "    Eg2 = beta * Eg2 + (1 - beta) * grad**2  # Update moving average\n",
    "    x = x - (alpha / (np.sqrt(Eg2) + epsilon)) * grad  # Update parameter\n",
    "    x_history_rmsprop.append(x)"
   ]
  },
  {
   "cell_type": "markdown",
   "metadata": {},
   "source": [
    "## **Adam (Adaptive Moment Estimation)**"
   ]
  },
  {
   "cell_type": "code",
   "execution_count": 47,
   "metadata": {},
   "outputs": [],
   "source": [
    "# Initialize variables\n",
    "x = x_init\n",
    "alpha = 0.01  # Learning rate\n",
    "beta1 = 0.9  # Momentum term\n",
    "beta2 = 0.999  # RMSprop scaling term\n",
    "epsilon = 1e-8  # Small constant to prevent division by zero\n",
    "\n",
    "# Initialize Adam variables\n",
    "m = 0  # First moment estimate\n",
    "v = 0  # Second moment estimate\n",
    "t = 0  # Time step\n",
    "\n",
    "# Store x values for plotting\n",
    "x_history_adam = [x]\n",
    "\n",
    "# Run Adam optimization\n",
    "for _ in range(iterations):\n",
    "    t += 1\n",
    "    grad = gradient(x)  # Compute gradient\n",
    "\n",
    "    # Update biased moment estimates\n",
    "    m = beta1 * m + (1 - beta1) * grad\n",
    "    v = beta2 * v + (1 - beta2) * (grad ** 2)\n",
    "\n",
    "    # Bias correction\n",
    "    m_hat = m / (1 - beta1 ** t)\n",
    "    v_hat = v / (1 - beta2 ** t)\n",
    "\n",
    "    # Update x\n",
    "    x = x - (alpha / (np.sqrt(v_hat) + epsilon)) * m_hat\n",
    "    x_history_adam.append(x)"
   ]
  },
  {
   "cell_type": "code",
   "execution_count": 48,
   "metadata": {},
   "outputs": [
    {
     "data": {
      "image/png": "[encoded data removed]",
      "text/plain": [
       "<Figure size 640x480 with 1 Axes>"
      ]
     },
     "metadata": {},
     "output_type": "display_data"
    }
   ],
   "source": [
    "# Plot results\n",
    "plt.plot(x_history_standard, label=\"Standard GD\")\n",
    "plt.plot(x_history_momentum, label=\"Momentum-based GD\")\n",
    "plt.plot(x_history_rmsprop, label=\"RMSprop\")\n",
    "plt.plot(x_history_adam, label=\"Adam Optimization\")\n",
    "\n",
    "plt.xlabel(\"Iterations\")\n",
    "plt.ylabel(\"x value\")\n",
    "plt.title(\"Optimization with RMSprop\")\n",
    "plt.legend()\n",
    "plt.show()"
   ]
  }
 ],
 "metadata": {
  "kernelspec": {
   "display_name": "Python 3",
   "language": "python",
   "name": "python3"
  },
  "language_info": {
   "codemirror_mode": {
    "name": "ipython",
    "version": 3
   },
   "file_extension": ".py",
   "mimetype": "text/x-python",
   "name": "python",
   "nbconvert_exporter": "python",
   "pygments_lexer": "ipython3",
   "version": "3.13.2"
  }
 },
 "nbformat": 4,
 "nbformat_minor": 2
}
