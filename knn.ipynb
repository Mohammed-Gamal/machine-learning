{
 "cells": [
  {
   "cell_type": "markdown",
   "metadata": {},
   "source": [
    "# k-Nearest Neighbors (k-NN)\n",
    "\n",
    "- k-NN is a simple, non-parametric learning algorithm used for classification and regression tasks.\n",
    "\n",
    "- It does not have a training stage in the traditional sense — there is no model fitting or weight learning and it does not assume a specific mathematical form for the data, instead, it stores all the training examples and makes predictions by looking at nearby points.\n",
    "\n",
    "- To classify or predict a new data point:\n",
    "    - Find the k nearest (most similar) points in the training set.\n",
    "    - Use those k points to make a prediction (either by *majority voting* for **classification** or by *averaging* for **regression**)."
   ]
  },
  {
   "cell_type": "code",
   "execution_count": null,
   "metadata": {},
   "outputs": [],
   "source": [
    "import numpy as np\n",
    "from sklearn.neighbors import KNeighborsClassifier, KNeighborsRegressor"
   ]
  },
  {
   "cell_type": "code",
   "execution_count": null,
   "metadata": {},
   "outputs": [],
   "source": []
  },
  {
   "cell_type": "code",
   "execution_count": null,
   "metadata": {},
   "outputs": [],
   "source": [
    "def knn(X_train, y_train, X_test, k=3, task='classification'):\n",
    "    \"\"\" Manual implementation of k-NN for classification \"\"\"\n",
    "    y_pred = []\n",
    "    for test_point in X_test:\n",
    "        distances = [np.linalg.norm(test_point - x) for x in X_train]  # Euclidean distance\n",
    "        k_nearest_indices = np.argsort(distances)[:k]\n",
    "        k_nearest_labels = [y_train[i] for i in k_nearest_indices]\n",
    "\n",
    "        if task == 'classification':\n",
    "            predicted_label = max(set(k_nearest_labels), key=k_nearest_labels.count)  # Majority voting\n",
    "        else:\n",
    "            predicted_label = np.mean(k_nearest_labels)  # Averaging for regression\n",
    "        \n",
    "        y_pred.append(predicted_label)\n",
    "    \n",
    "    return np.array(y_pred)"
   ]
  },
  {
   "cell_type": "code",
   "execution_count": null,
   "metadata": {},
   "outputs": [],
   "source": []
  },
  {
   "cell_type": "markdown",
   "metadata": {},
   "source": [
    "### 1) Classification"
   ]
  },
  {
   "cell_type": "markdown",
   "metadata": {},
   "source": [
    "**Dataset:** Students\n",
    "\n",
    "| Study Hours *x* | Pass (1) / Fail (0) *y* |\n",
    "|----------------|-----------------------|\n",
    "| 1              | 0 (Fail)              |\n",
    "| 2              | 0 (Fail)              |\n",
    "| 3              | 1 (Pass)              |\n",
    "| 4              | 1 (Pass)              |\n",
    "| 5              | 1 (Pass)              |\n",
    "\n",
    "- We want to predict whether a student who studied for **3.2 hours** will pass."
   ]
  },
  {
   "cell_type": "code",
   "execution_count": 109,
   "metadata": {},
   "outputs": [],
   "source": [
    "#-- Sample Data for Classification\n",
    "X_train = np.array([[1], [2], [3], [4], [5]])\n",
    "y_train = np.array([0, 0, 1, 1, 1])\n",
    "X_test = np.array([[3.2]])"
   ]
  },
  {
   "cell_type": "code",
   "execution_count": 110,
   "metadata": {},
   "outputs": [
    {
     "name": "stdout",
     "output_type": "stream",
     "text": [
      "Manual k-NN Classification Prediction: [1]\n"
     ]
    }
   ],
   "source": [
    "# Manual k-NN Classification\n",
    "manual_pred = knn(X_train, y_train, X_test, k=3, task='classification')\n",
    "print(\"Manual k-NN Classification Prediction:\", manual_pred)"
   ]
  },
  {
   "cell_type": "code",
   "execution_count": 111,
   "metadata": {},
   "outputs": [
    {
     "name": "stdout",
     "output_type": "stream",
     "text": [
      "Sklearn k-NN Classification Prediction: [1]\n"
     ]
    }
   ],
   "source": [
    "# Sklearn k-NN Classification\n",
    "knn_clf = KNeighborsClassifier(n_neighbors=3)\n",
    "knn_clf.fit(X_train, y_train)\n",
    "sklearn_pred = knn_clf.predict(X_test)\n",
    "print(\"Sklearn k-NN Classification Prediction:\", sklearn_pred)"
   ]
  },
  {
   "cell_type": "code",
   "execution_count": null,
   "metadata": {},
   "outputs": [],
   "source": []
  },
  {
   "cell_type": "markdown",
   "metadata": {},
   "source": [
    "### 2) Regression"
   ]
  },
  {
   "cell_type": "markdown",
   "metadata": {},
   "source": [
    "**Dataset:** Houses\n",
    "\n",
    "| Square Feet (*x*) | House Price ($K) (*y*) |\n",
    "|------------------|---------------------|\n",
    "| 1000            | 200                 |\n",
    "| 1200            | 220                 |\n",
    "| 1300            | 250                 |\n",
    "| 1500            | 275                 |\n",
    "| 1600            | 300                 |\n",
    "\n",
    "- We want to predict the price of a **1400 sq. ft. house**."
   ]
  },
  {
   "cell_type": "code",
   "execution_count": 113,
   "metadata": {},
   "outputs": [],
   "source": [
    "#-- Sample Data for Regression\n",
    "X_train_reg = np.array([[1000], [1200], [1300], [1500], [1600]])\n",
    "y_train_reg = np.array([200, 220, 250, 275, 300])\n",
    "X_test_reg = np.array([[1400]])"
   ]
  },
  {
   "cell_type": "code",
   "execution_count": 114,
   "metadata": {},
   "outputs": [
    {
     "name": "stdout",
     "output_type": "stream",
     "text": [
      "Manual k-NN Regression Prediction: [248.33333333]\n"
     ]
    }
   ],
   "source": [
    "# Manual k-NN Regression\n",
    "manual_pred_reg = knn(X_train_reg, y_train_reg, X_test_reg, k=3, task='regression')\n",
    "print(\"Manual k-NN Regression Prediction:\", manual_pred_reg)"
   ]
  },
  {
   "cell_type": "code",
   "execution_count": 115,
   "metadata": {},
   "outputs": [
    {
     "name": "stdout",
     "output_type": "stream",
     "text": [
      "Sklearn k-NN Regression Prediction: [248.33333333]\n"
     ]
    }
   ],
   "source": [
    "# Sklearn k-NN Regression\n",
    "knn_reg = KNeighborsRegressor(n_neighbors=3)\n",
    "knn_reg.fit(X_train_reg, y_train_reg)\n",
    "sklearn_pred_reg = knn_reg.predict(X_test_reg)\n",
    "print(\"Sklearn k-NN Regression Prediction:\", sklearn_pred_reg)"
   ]
  },
  {
   "cell_type": "code",
   "execution_count": null,
   "metadata": {},
   "outputs": [],
   "source": []
  },
  {
   "cell_type": "code",
   "execution_count": null,
   "metadata": {},
   "outputs": [
    {
     "name": "stdout",
     "output_type": "stream",
     "text": [
      "Dim: 1, Avg Distance: 0.3445, Std: 0.2416\n",
      "Dim: 5, Avg Distance: 0.9092, Std: 0.2543\n",
      "Dim: 10, Avg Distance: 1.2774, Std: 0.2475\n",
      "Dim: 50, Avg Distance: 2.8744, Std: 0.2399\n",
      "Dim: 100, Avg Distance: 4.0685, Std: 0.2478\n"
     ]
    }
   ],
   "source": [
    "#-- Curse of Dimensionality Example\n",
    "np.random.seed(42)\n",
    "dimensions = [1, 5, 10, 50, 100]  # increasing feature dimensions\n",
    "for d in dimensions:\n",
    "    X_rand = np.random.rand(100, d)\n",
    "    distances = [np.linalg.norm(X_rand[i] - X_rand[j]) for i in range(99) for j in range(i+1, 100)]\n",
    "    print(f\"Dim: {d}, Avg Distance: {np.mean(distances):.4f}, Std: {np.std(distances):.4f}\")"
   ]
  },
  {
   "cell_type": "code",
   "execution_count": null,
   "metadata": {},
   "outputs": [],
   "source": []
  }
 ],
 "metadata": {
  "kernelspec": {
   "display_name": "Python 3",
   "language": "python",
   "name": "python3"
  },
  "language_info": {
   "codemirror_mode": {
    "name": "ipython",
    "version": 3
   },
   "file_extension": ".py",
   "mimetype": "text/x-python",
   "name": "python",
   "nbconvert_exporter": "python",
   "pygments_lexer": "ipython3",
   "version": "3.13.2"
  }
 },
 "nbformat": 4,
 "nbformat_minor": 2
}
