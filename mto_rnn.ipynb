{
 "cells": [
  {
   "cell_type": "markdown",
   "metadata": {},
   "source": [
    "# MTO RNN (Many-to-One Recurrent Neural Network)"
   ]
  },
  {
   "cell_type": "code",
   "execution_count": null,
   "metadata": {},
   "outputs": [],
   "source": [
    "import torch\n",
    "import torch.nn.functional as F  # Parameterless functions, like (some) activation functions\n",
    "import torchvision.datasets as datasets  # Standard datasets\n",
    "import torchvision.transforms as transforms  # Transformations we can perform on our dataset for augmentation\n",
    "from torch import nn  # All neural network modules\n",
    "from torch import optim  # For optimizers like SGD, Adam, etc.\n",
    "from torch.utils.data import DataLoader  # Gives easier dataset managment by creating mini batches etc."
   ]
  },
  {
   "cell_type": "code",
   "execution_count": 4,
   "metadata": {},
   "outputs": [],
   "source": [
    "# Set device\n",
    "device = \"cuda\" if torch.cuda.is_available() else \"cpu\""
   ]
  },
  {
   "cell_type": "code",
   "execution_count": 5,
   "metadata": {},
   "outputs": [],
   "source": [
    "# Hyperparameters\n",
    "input_size  = 28\n",
    "hidden_size = 256\n",
    "num_layers  = 2\n",
    "num_classes = 10\n",
    "sequence_length = 28\n",
    "learning_rate   = 0.005\n",
    "batch_size = 64\n",
    "num_epochs = 3"
   ]
  },
  {
   "cell_type": "code",
   "execution_count": 6,
   "metadata": {},
   "outputs": [],
   "source": [
    "# Recurrent neural network (many-to-one)\n",
    "class RNN(nn.Module):\n",
    "\tdef __init__(self, input_size, hidden_size, num_layers, num_classes):\n",
    "\t\tsuper(RNN, self).__init__()\n",
    "\t\tself.hidden_size = hidden_size\n",
    "\t\tself.num_layers  = num_layers\n",
    "\t\tself.rnn = nn.RNN(input_size, hidden_size, num_layers, batch_first=True)\n",
    "\t\tself.fc  = nn.Linear(hidden_size * sequence_length, num_classes)\n",
    "\n",
    "\tdef forward(self, x):\n",
    "\t\t# Set initial hidden and cell states\n",
    "\t\th0 = torch.zeros(self.num_layers, x.size(0), self.hidden_size).to(device)\n",
    "\n",
    "\t\t# Forward propagate RNN\n",
    "\t\tout, _ = self.rnn(x, h0)\n",
    "\t\tout = out.reshape(out.shape[0], -1)  # Flatten the output\n",
    "\n",
    "\t\t# Decode the hidden state of the last time step\n",
    "\t\tout = self.fc(out)\n",
    "\n",
    "\t\treturn out"
   ]
  },
  {
   "cell_type": "code",
   "execution_count": 7,
   "metadata": {},
   "outputs": [],
   "source": [
    "# Recurrent neural network with GRU (many-to-one)\n",
    "class RNN_GRU(nn.Module):\n",
    "    def __init__(self, input_size, hidden_size, num_layers, num_classes):\n",
    "        super(RNN_GRU, self).__init__()\n",
    "        self.hidden_size = hidden_size\n",
    "        self.num_layers = num_layers\n",
    "        self.gru = nn.GRU(input_size, hidden_size, num_layers, batch_first=True)\n",
    "        self.fc = nn.Linear(hidden_size * sequence_length, num_classes)\n",
    "\n",
    "    def forward(self, x):\n",
    "        # Set initial hidden and cell states\n",
    "        h0 = torch.zeros(self.num_layers, x.size(0), self.hidden_size).to(device)\n",
    "\n",
    "        # Forward propagate LSTM\n",
    "        out, _ = self.gru(x, h0)\n",
    "        out = out.reshape(out.shape[0], -1)\n",
    "\n",
    "        # Decode the hidden state of the last time step\n",
    "        out = self.fc(out)\n",
    "        return out"
   ]
  },
  {
   "cell_type": "code",
   "execution_count": 8,
   "metadata": {},
   "outputs": [],
   "source": [
    "# Recurrent neural network with LSTM (many-to-one)\n",
    "class RNN_LSTM(nn.Module):\n",
    "\tdef __init__(self, input_size, hidden_size, num_layers, num_classes):\n",
    "\t\tsuper(RNN_LSTM, self).__init__()\n",
    "\t\tself.hidden_size = hidden_size\n",
    "\t\tself.num_layers = num_layers\n",
    "\t\tself.lstm = nn.LSTM(input_size, hidden_size, num_layers, batch_first=True)\n",
    "\t\tself.fc = nn.Linear(hidden_size * sequence_length, num_classes)\n",
    "\n",
    "\tdef forward(self, x):\n",
    "\t\t# Set initial hidden and cell states\n",
    "\t\th0 = torch.zeros(self.num_layers, x.size(0), self.hidden_size).to(device)\n",
    "\t\tc0 = torch.zeros(self.num_layers, x.size(0), self.hidden_size).to(device)\n",
    "\n",
    "\t\t# Forward propagate LSTM\n",
    "\t\tout, _ = self.lstm(\n",
    "\t\t\tx, (h0, c0)\n",
    "\t\t)  # out: tensor of shape (batch_size, seq_length, hidden_size)\n",
    "\t\tout = out.reshape(out.shape[0], -1)\n",
    "\n",
    "\t\t# Decode the hidden state of the last time step\n",
    "\t\tout = self.fc(out)\n",
    "\n",
    "\t\treturn out"
   ]
  },
  {
   "cell_type": "code",
   "execution_count": 9,
   "metadata": {},
   "outputs": [
    {
     "name": "stderr",
     "output_type": "stream",
     "text": [
      "100.0%\n",
      "100.0%\n",
      "100.0%\n",
      "100.0%\n"
     ]
    }
   ],
   "source": [
    "# Load Data\n",
    "train_dataset = datasets.MNIST(\n",
    "    root=\"dataset/\",\n",
    "    train=True,\n",
    "    transform=transforms.ToTensor(),\n",
    "    download=True\n",
    ")\n",
    "\n",
    "test_dataset = datasets.MNIST(\n",
    "    root=\"dataset/\",\n",
    "    train=False,\n",
    "    transform=transforms.ToTensor(),\n",
    "    download=True\n",
    ")\n",
    "\n",
    "train_loader = DataLoader(dataset=train_dataset, batch_size=batch_size, shuffle=True)\n",
    "test_loader  = DataLoader(dataset=test_dataset,  batch_size=batch_size, shuffle=True)"
   ]
  },
  {
   "cell_type": "code",
   "execution_count": 10,
   "metadata": {},
   "outputs": [],
   "source": [
    "# Initialize network (try out just using simple RNN, or GRU, and then compare with LSTM)\n",
    "model = RNN_LSTM(input_size, hidden_size, num_layers, num_classes).to(device)"
   ]
  },
  {
   "cell_type": "code",
   "execution_count": 11,
   "metadata": {},
   "outputs": [],
   "source": [
    "# Loss and optimizer\n",
    "criterion = nn.CrossEntropyLoss()\n",
    "optimizer = optim.Adam(model.parameters(), lr=learning_rate)"
   ]
  },
  {
   "cell_type": "code",
   "execution_count": 12,
   "metadata": {},
   "outputs": [],
   "source": [
    "# Train the Network\n",
    "for epoch in range(num_epochs):\n",
    "    for batch_idx, (data, targets) in enumerate(train_loader):\n",
    "        # Get data to cuda if possible\n",
    "        data = data.to(device=device).squeeze(1)\n",
    "        targets = targets.to(device=device)\n",
    "\n",
    "        # forward\n",
    "        scores = model(data)\n",
    "        loss = criterion(scores, targets)\n",
    "\n",
    "        # backward\n",
    "        optimizer.zero_grad()\n",
    "        loss.backward()\n",
    "\n",
    "        # gradient descent update step/adam step\n",
    "        optimizer.step()"
   ]
  },
  {
   "cell_type": "code",
   "execution_count": 13,
   "metadata": {},
   "outputs": [],
   "source": [
    "# Check accuracy on training & test to see how good our model is\n",
    "def check_accuracy(loader, model):\n",
    "\tnum_correct = 0\n",
    "\tnum_samples = 0\n",
    "\n",
    "\t# Set model to eval\n",
    "\tmodel.eval()\n",
    "\n",
    "\twith torch.no_grad():\n",
    "\t\tfor x, y in loader:\n",
    "\t\t\tx = x.to(device=device).squeeze(1)\n",
    "\t\t\ty = y.to(device=device)\n",
    "\n",
    "\t\t\tscores = model(x)\n",
    "\t\t\t_, predictions = scores.max(1)\n",
    "\t\t\tnum_correct += (predictions == y).sum()\n",
    "\t\t\tnum_samples += predictions.size(0)\n",
    "\n",
    "\t# Toggle model back to train\n",
    "\tmodel.train()\n",
    "\n",
    "\treturn num_correct / num_samples"
   ]
  },
  {
   "cell_type": "code",
   "execution_count": 15,
   "metadata": {},
   "outputs": [
    {
     "name": "stdout",
     "output_type": "stream",
     "text": [
      "Accuracy on training set: 99.238335%\n",
      "Accuracy on test set: 98.80%\n"
     ]
    }
   ],
   "source": [
    "print(f\"Accuracy on training set: {check_accuracy(train_loader, model)*100:2f}%\")\n",
    "print(f\"Accuracy on test set: {check_accuracy(test_loader, model)*100:.2f}%\")"
   ]
  },
  {
   "cell_type": "code",
   "execution_count": null,
   "metadata": {},
   "outputs": [],
   "source": []
  }
 ],
 "metadata": {
  "kernelspec": {
   "display_name": "Python 3",
   "language": "python",
   "name": "python3"
  },
  "language_info": {
   "codemirror_mode": {
    "name": "ipython",
    "version": 3
   },
   "file_extension": ".py",
   "mimetype": "text/x-python",
   "name": "python",
   "nbconvert_exporter": "python",
   "pygments_lexer": "ipython3",
   "version": "3.13.2"
  }
 },
 "nbformat": 4,
 "nbformat_minor": 2
}
