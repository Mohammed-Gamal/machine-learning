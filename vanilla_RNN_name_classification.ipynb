{
 "cells": [
  {
   "cell_type": "markdown",
   "id": "820a0063",
   "metadata": {},
   "source": [
    "### **Vanilla RNN (Recurrent Neural Network)**\n",
    "- PyTorch Implementation\n",
    "- Name Classification Task\n",
    "- Many-to-One RNN\n",
    "\n",
    "##### **Dataset:** https://download.pytorch.org/tutorial/data.zip"
   ]
  },
  {
   "cell_type": "code",
   "execution_count": 32,
   "id": "2e761466",
   "metadata": {},
   "outputs": [],
   "source": [
    "import os\n",
    "import glob\n",
    "import unicodedata\n",
    "import string\n",
    "import torch\n",
    "import torch.nn as nn"
   ]
  },
  {
   "cell_type": "code",
   "execution_count": 33,
   "id": "7e718960",
   "metadata": {},
   "outputs": [
    {
     "name": "stdout",
     "output_type": "stream",
     "text": [
      "All letters: abcdefghijklmnopqrstuvwxyzABCDEFGHIJKLMNOPQRSTUVWXYZ .,;' \t(Total: 57)\n"
     ]
    }
   ],
   "source": [
    "#-- We define the set of all possible letters we'll use\n",
    "all_letters = string.ascii_letters + \" .,;'\"\n",
    "n_letters = len(all_letters)\n",
    "\n",
    "print(f\"All letters: {all_letters} \\t(Total: {n_letters})\")"
   ]
  },
  {
   "cell_type": "code",
   "execution_count": 34,
   "id": "98cefe4f",
   "metadata": {},
   "outputs": [
    {
     "data": {
      "text/plain": [
       "'Slusarski'"
      ]
     },
     "execution_count": 34,
     "metadata": {},
     "output_type": "execute_result"
    }
   ],
   "source": [
    "#-- Function to convert Unicode to plain ASCII\n",
    "def unicode_to_ascii(s):\n",
    "    return ''.join(\n",
    "        c for c in unicodedata.normalize('NFD', s)\n",
    "        if unicodedata.category(c) != 'Mn' and c in all_letters\n",
    "    )\n",
    "\n",
    "unicode_to_ascii(\"Ślusàrski$%\")"
   ]
  },
  {
   "cell_type": "code",
   "execution_count": 35,
   "id": "7a866047",
   "metadata": {},
   "outputs": [],
   "source": [
    "#-- Load and Process the Data\n",
    "category_lines = {}\n",
    "all_categories = []\n",
    "\n",
    "def read_lines(filename):\n",
    "    with open(filename, encoding='utf-8') as f:\n",
    "        lines = f.read().strip().split('\\n')\n",
    "    return [unicode_to_ascii(line) for line in lines]\n",
    "\n",
    "for filename in glob.glob('data/*.txt'):\n",
    "    category = os.path.splitext(os.path.basename(filename))[0]\n",
    "    all_categories.append(category)\n",
    "    lines = read_lines(filename)\n",
    "    category_lines[category] = lines\n",
    "\n",
    "n_categories = len(all_categories)"
   ]
  },
  {
   "cell_type": "code",
   "execution_count": 36,
   "id": "421c045e",
   "metadata": {},
   "outputs": [
    {
     "name": "stdout",
     "output_type": "stream",
     "text": [
      "Categories: ['Arabic', 'Chinese', 'Czech']... \t(Total Categories: 18)\n"
     ]
    }
   ],
   "source": [
    "print(f\"Categories: {all_categories[:3]}... \\t(Total Categories: {n_categories})\")"
   ]
  },
  {
   "cell_type": "code",
   "execution_count": 37,
   "id": "9590f430",
   "metadata": {},
   "outputs": [
    {
     "name": "stdout",
     "output_type": "stream",
     "text": [
      "Arabic: ['Khoury', 'Nahas', 'Daher']... (Total Values: 2000)\n"
     ]
    }
   ],
   "source": [
    "for k,v in category_lines.items():\n",
    "\tprint(f\"{k}: {v[:3]}... (Total Values: {len(v)})\")\n",
    "\tbreak"
   ]
  },
  {
   "cell_type": "code",
   "execution_count": 38,
   "id": "c85197b4",
   "metadata": {},
   "outputs": [],
   "source": [
    "#-- Turn Letters into Tensors using One-Hot Encoding\n",
    "def letter_to_tensor(letter):\n",
    "    tensor = torch.zeros(1, n_letters)\n",
    "    tensor[0][all_letters.find(letter)] = 1\n",
    "    return tensor\n",
    "\n",
    "def line_to_tensor(line):\n",
    "    tensor = torch.zeros(len(line), 1, n_letters)\n",
    "    for i, letter in enumerate(line):\n",
    "        tensor[i][0][all_letters.find(letter)] = 1\n",
    "    return tensor"
   ]
  },
  {
   "cell_type": "code",
   "execution_count": 39,
   "id": "1397a6a1",
   "metadata": {},
   "outputs": [
    {
     "data": {
      "text/plain": [
       "tensor([[1., 0., 0., 0., 0., 0., 0., 0., 0., 0., 0., 0., 0., 0., 0., 0., 0., 0.,\n",
       "         0., 0., 0., 0., 0., 0., 0., 0., 0., 0., 0., 0., 0., 0., 0., 0., 0., 0.,\n",
       "         0., 0., 0., 0., 0., 0., 0., 0., 0., 0., 0., 0., 0., 0., 0., 0., 0., 0.,\n",
       "         0., 0., 0.]])"
      ]
     },
     "execution_count": 39,
     "metadata": {},
     "output_type": "execute_result"
    }
   ],
   "source": [
    "letter_to_tensor('a')"
   ]
  },
  {
   "cell_type": "code",
   "execution_count": 40,
   "id": "af744f67",
   "metadata": {},
   "outputs": [
    {
     "data": {
      "text/plain": [
       "tensor([[[1., 0., 0., 0., 0., 0., 0., 0., 0., 0., 0., 0., 0., 0., 0., 0., 0.,\n",
       "          0., 0., 0., 0., 0., 0., 0., 0., 0., 0., 0., 0., 0., 0., 0., 0., 0.,\n",
       "          0., 0., 0., 0., 0., 0., 0., 0., 0., 0., 0., 0., 0., 0., 0., 0., 0.,\n",
       "          0., 0., 0., 0., 0., 0.]],\n",
       "\n",
       "        [[0., 1., 0., 0., 0., 0., 0., 0., 0., 0., 0., 0., 0., 0., 0., 0., 0.,\n",
       "          0., 0., 0., 0., 0., 0., 0., 0., 0., 0., 0., 0., 0., 0., 0., 0., 0.,\n",
       "          0., 0., 0., 0., 0., 0., 0., 0., 0., 0., 0., 0., 0., 0., 0., 0., 0.,\n",
       "          0., 0., 0., 0., 0., 0.]],\n",
       "\n",
       "        [[0., 0., 1., 0., 0., 0., 0., 0., 0., 0., 0., 0., 0., 0., 0., 0., 0.,\n",
       "          0., 0., 0., 0., 0., 0., 0., 0., 0., 0., 0., 0., 0., 0., 0., 0., 0.,\n",
       "          0., 0., 0., 0., 0., 0., 0., 0., 0., 0., 0., 0., 0., 0., 0., 0., 0.,\n",
       "          0., 0., 0., 0., 0., 0.]]])"
      ]
     },
     "execution_count": 40,
     "metadata": {},
     "output_type": "execute_result"
    }
   ],
   "source": [
    "line_to_tensor('abc')"
   ]
  },
  {
   "cell_type": "code",
   "execution_count": 41,
   "id": "35f8fe1e",
   "metadata": {},
   "outputs": [],
   "source": [
    "#-- Define the Simple RNN\n",
    "class RNN(nn.Module):\n",
    "    def __init__(self, input_size, hidden_size, output_size):\n",
    "        super(RNN, self).__init__()\n",
    "        self.hidden_size = hidden_size\n",
    "\n",
    "        self.i2h = nn.Linear(input_size + hidden_size, hidden_size)\n",
    "        self.i2o = nn.Linear(input_size + hidden_size, output_size)\n",
    "        self.softmax = nn.LogSoftmax(dim=1)\n",
    "\n",
    "    def forward(self, input, hidden):\n",
    "        combined = torch.cat((input, hidden), 1)  # Concatenate input and hidden state\n",
    "        hidden = self.i2h(combined)\n",
    "        output = self.i2o(combined)\n",
    "        output = self.softmax(output)\n",
    "        return output, hidden\n",
    "\n",
    "    def init_hidden(self):\n",
    "        return torch.zeros(1, self.hidden_size)"
   ]
  },
  {
   "cell_type": "code",
   "execution_count": 42,
   "id": "70b92764",
   "metadata": {},
   "outputs": [],
   "source": [
    "#-- Training Utilities (Get Random Training Example)\n",
    "import random\n",
    "\n",
    "def random_training_example():\n",
    "    category = random.choice(all_categories)\n",
    "    line = random.choice(category_lines[category])\n",
    "    category_tensor = torch.tensor([all_categories.index(category)], dtype=torch.long)\n",
    "    line_tensor = line_to_tensor(line)\n",
    "    return category, line, category_tensor, line_tensor"
   ]
  },
  {
   "cell_type": "code",
   "execution_count": 43,
   "id": "59a438d0",
   "metadata": {},
   "outputs": [
    {
     "data": {
      "text/plain": [
       "('German',\n",
       " 'Habicht',\n",
       " tensor([6]),\n",
       " tensor([[[0., 0., 0., 0., 0., 0., 0., 0., 0., 0., 0., 0., 0., 0., 0., 0., 0.,\n",
       "           0., 0., 0., 0., 0., 0., 0., 0., 0., 0., 0., 0., 0., 0., 0., 0., 1.,\n",
       "           0., 0., 0., 0., 0., 0., 0., 0., 0., 0., 0., 0., 0., 0., 0., 0., 0.,\n",
       "           0., 0., 0., 0., 0., 0.]],\n",
       " \n",
       "         [[1., 0., 0., 0., 0., 0., 0., 0., 0., 0., 0., 0., 0., 0., 0., 0., 0.,\n",
       "           0., 0., 0., 0., 0., 0., 0., 0., 0., 0., 0., 0., 0., 0., 0., 0., 0.,\n",
       "           0., 0., 0., 0., 0., 0., 0., 0., 0., 0., 0., 0., 0., 0., 0., 0., 0.,\n",
       "           0., 0., 0., 0., 0., 0.]],\n",
       " \n",
       "         [[0., 1., 0., 0., 0., 0., 0., 0., 0., 0., 0., 0., 0., 0., 0., 0., 0.,\n",
       "           0., 0., 0., 0., 0., 0., 0., 0., 0., 0., 0., 0., 0., 0., 0., 0., 0.,\n",
       "           0., 0., 0., 0., 0., 0., 0., 0., 0., 0., 0., 0., 0., 0., 0., 0., 0.,\n",
       "           0., 0., 0., 0., 0., 0.]],\n",
       " \n",
       "         [[0., 0., 0., 0., 0., 0., 0., 0., 1., 0., 0., 0., 0., 0., 0., 0., 0.,\n",
       "           0., 0., 0., 0., 0., 0., 0., 0., 0., 0., 0., 0., 0., 0., 0., 0., 0.,\n",
       "           0., 0., 0., 0., 0., 0., 0., 0., 0., 0., 0., 0., 0., 0., 0., 0., 0.,\n",
       "           0., 0., 0., 0., 0., 0.]],\n",
       " \n",
       "         [[0., 0., 1., 0., 0., 0., 0., 0., 0., 0., 0., 0., 0., 0., 0., 0., 0.,\n",
       "           0., 0., 0., 0., 0., 0., 0., 0., 0., 0., 0., 0., 0., 0., 0., 0., 0.,\n",
       "           0., 0., 0., 0., 0., 0., 0., 0., 0., 0., 0., 0., 0., 0., 0., 0., 0.,\n",
       "           0., 0., 0., 0., 0., 0.]],\n",
       " \n",
       "         [[0., 0., 0., 0., 0., 0., 0., 1., 0., 0., 0., 0., 0., 0., 0., 0., 0.,\n",
       "           0., 0., 0., 0., 0., 0., 0., 0., 0., 0., 0., 0., 0., 0., 0., 0., 0.,\n",
       "           0., 0., 0., 0., 0., 0., 0., 0., 0., 0., 0., 0., 0., 0., 0., 0., 0.,\n",
       "           0., 0., 0., 0., 0., 0.]],\n",
       " \n",
       "         [[0., 0., 0., 0., 0., 0., 0., 0., 0., 0., 0., 0., 0., 0., 0., 0., 0.,\n",
       "           0., 0., 1., 0., 0., 0., 0., 0., 0., 0., 0., 0., 0., 0., 0., 0., 0.,\n",
       "           0., 0., 0., 0., 0., 0., 0., 0., 0., 0., 0., 0., 0., 0., 0., 0., 0.,\n",
       "           0., 0., 0., 0., 0., 0.]]]))"
      ]
     },
     "execution_count": 43,
     "metadata": {},
     "output_type": "execute_result"
    }
   ],
   "source": [
    "random_training_example()"
   ]
  },
  {
   "cell_type": "code",
   "execution_count": 44,
   "id": "c82aaacf",
   "metadata": {},
   "outputs": [],
   "source": [
    "#-- Training the Network\n",
    "criterion = nn.NLLLoss()\n",
    "learning_rate = 0.005\n",
    "rnn = RNN(n_letters, 128, n_categories)  # 128 hidden size\n",
    "\n",
    "def train(category_tensor, line_tensor):\n",
    "    hidden = rnn.init_hidden()\n",
    "    rnn.zero_grad()\n",
    "\n",
    "    for i in range(line_tensor.size()[0]):\n",
    "        output, hidden = rnn(line_tensor[i], hidden)\n",
    "\n",
    "    loss = criterion(output, category_tensor)\n",
    "    loss.backward()\n",
    "\n",
    "    for p in rnn.parameters():\n",
    "        p.data -= learning_rate * p.grad.data\n",
    "\n",
    "    return output, loss.item()"
   ]
  },
  {
   "cell_type": "code",
   "execution_count": 45,
   "id": "5ac0e3d7",
   "metadata": {},
   "outputs": [
    {
     "name": "stdout",
     "output_type": "stream",
     "text": [
      "1000 2.8842 Colon → Russian ✗ (Spanish)\n",
      "2000 3.0750 Rog → Scottish ✗ (Polish)\n",
      "3000 2.6404 Okamura → Japanese ✓\n",
      "4000 2.5952 Tong → Chinese ✗ (Vietnamese)\n",
      "5000 2.2663 Nervetti → Italian ✓\n",
      "6000 2.2229 Coelho → Czech ✗ (Portuguese)\n",
      "7000 1.6784 Naoimhin → Irish ✓\n",
      "8000 2.0870 Eoghan → Arabic ✗ (Irish)\n",
      "9000 1.2479 Zha → Chinese ✓\n",
      "10000 2.9220 Koenig → Spanish ✗ (German)\n"
     ]
    }
   ],
   "source": [
    "# Train over many iterations\n",
    "n_iters = 10_000\n",
    "print_every = 1000\n",
    "for iter in range(1, n_iters + 1):\n",
    "    category, line, category_tensor, line_tensor = random_training_example()\n",
    "    output, loss = train(category_tensor, line_tensor)\n",
    "\n",
    "    if iter % print_every == 0:\n",
    "        guess = all_categories[output.topk(1)[1].item()]\n",
    "        correct = '✓' if guess == category else f'✗ ({category})'\n",
    "        print(f'{iter} {loss:.4f} {line} → {guess} {correct}')"
   ]
  },
  {
   "cell_type": "code",
   "execution_count": 46,
   "id": "631dea1e",
   "metadata": {},
   "outputs": [
    {
     "name": "stdout",
     "output_type": "stream",
     "text": [
      "[{'category': 'Polish', 'probability': 0.22427910753730615, 'log_probability': -1.4948639869689941}, {'category': 'Italian', 'probability': 0.11635690942881172, 'log_probability': -2.151093006134033}, {'category': 'Japanese', 'probability': 0.11105543667289425, 'log_probability': -2.197725772857666}]\n"
     ]
    }
   ],
   "source": [
    "import math\n",
    "\n",
    "#-- Prediction Function\n",
    "def predict(input_line, n_predictions=3):\n",
    "\twith torch.inference_mode():\n",
    "\t\tline_tensor = line_to_tensor(input_line)\n",
    "\t\thidden = rnn.init_hidden()\n",
    "\n",
    "\t\tfor i in range(line_tensor.size()[0]):\n",
    "\t\t\toutput, hidden = rnn(line_tensor[i], hidden)\n",
    "\n",
    "\t\ttopv, topi = output.topk(n_predictions, 1, True)\n",
    "\t\tpredictions = []\n",
    "\n",
    "\t\tfor i in range(n_predictions):\n",
    "\t\t\tvalue = topv[0][i].item()\n",
    "\t\t\tcategory_index = topi[0][i].item()\n",
    "\t\t\tpredictions.append((value, all_categories[category_index]))\n",
    "\n",
    "\t\tresults = []\n",
    "\t\tfor value, category in predictions:\n",
    "\t\t\tresults.append(\n",
    "\t\t\t\t{\n",
    "\t\t\t\t\t'category': category,\n",
    "\t\t\t\t\t'probability': math.exp(value),\n",
    "\t\t\t\t\t'log_probability': value\n",
    "\t\t\t\t}\n",
    "\t\t\t)\n",
    "\n",
    "\t\treturn results\n",
    "\n",
    "# Example usage\n",
    "print(predict(\"Satoshi\"))"
   ]
  }
 ],
 "metadata": {
  "kernelspec": {
   "display_name": "Python 3",
   "language": "python",
   "name": "python3"
  },
  "language_info": {
   "codemirror_mode": {
    "name": "ipython",
    "version": 3
   },
   "file_extension": ".py",
   "mimetype": "text/x-python",
   "name": "python",
   "nbconvert_exporter": "python",
   "pygments_lexer": "ipython3",
   "version": "3.11.9"
  }
 },
 "nbformat": 4,
 "nbformat_minor": 5
}
